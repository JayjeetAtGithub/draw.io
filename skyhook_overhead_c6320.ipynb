{
  "nbformat": 4,
  "nbformat_minor": 0,
  "metadata": {
    "colab": {
      "name": "skyhook_overhead_c6320.ipynb",
      "provenance": [],
      "collapsed_sections": [],
      "authorship_tag": "ABX9TyN65Q6jLAfGTMskh0YY4Whm",
      "include_colab_link": true
    },
    "kernelspec": {
      "name": "python3",
      "display_name": "Python 3"
    }
  },
  "cells": [
    {
      "cell_type": "markdown",
      "metadata": {
        "id": "view-in-github",
        "colab_type": "text"
      },
      "source": [
        "<a href=\"https://colab.research.google.com/github/JayjeetAtGithub/skyhook-overhead-obs/blob/master/skyhook_overhead_c6320.ipynb\" target=\"_parent\"><img src=\"https://colab.research.google.com/assets/colab-badge.svg\" alt=\"Open In Colab\"/></a>"
      ]
    },
    {
      "cell_type": "markdown",
      "metadata": {
        "id": "mI1fYEQYXd59",
        "colab_type": "text"
      },
      "source": [
        "## System Specification\n",
        "\n",
        "**cloudlab machine**: c6320\n",
        "\n",
        "**CPU**: Two Intel E5-2683 v3 14-core CPUs at 2.00 GHz (Haswell)\n",
        "\n",
        "**RAM**: 256GB ECC Memory\n",
        "\n",
        "**Disk**: Two 1 TB 7.2K RPM 3G SATA HDDs\n",
        "\n",
        "**NIC**: Dual-port Intel 10Gbe NIC (X520)\n",
        "\n",
        "**NIC**: Qlogic QLE 7340 40 Gb/s Infiniband HCA (PCIe v3.0, 8 lanes)"
      ]
    },
    {
      "cell_type": "markdown",
      "metadata": {
        "id": "_dHlPAXhKdA4",
        "colab_type": "text"
      },
      "source": [
        "## Rados benchmarks\n",
        "\n",
        "All dataflow occurred through a 10Gb/s internal link. The rados client was in the master node. Caches were cleared in the OSDs amidst each run. The objects are of 4 MB size.\n",
        "\n",
        "---\n",
        "\n",
        "### 1 OSD on a 1 1 TiB HDD on 1 node, 1 OSD on 1 node\n",
        "\n",
        "<img src=\"https://user-images.githubusercontent.com/33978990/89943776-5f1b6200-dc3c-11ea-9eb7-c3bb6f0708bd.png\" width=\"400\">\n",
        "\n",
        "### 2 OSD on 2 1 TiB HDD on 1 node, 2 OSD on 1 node\n",
        "<img src=\"https://user-images.githubusercontent.com/33978990/89919341-c32c2f00-dc18-11ea-82da-ed3faf27e057.png\" width=\"400\">\n",
        "\n",
        "### 8 OSDs on 8 1 TiB HDD over 4 nodes, 2 OSDs per node\n",
        "\n",
        "<img src=\"https://user-images.githubusercontent.com/33978990/89918992-5add4d80-dc18-11ea-835e-94ebe3936f96.png\" width=\"400\">\n",
        "\n",
        "### 16 OSDs on 16 1 TiB HDD over 8 nodes, 2 OSDS per node\n",
        "\n",
        "<img src=\"https://user-images.githubusercontent.com/33978990/89921114-e6f07480-dc1a-11ea-9ae1-4c3077226408.png\" width=\"400\">\n",
        "\n",
        "\n",
        "### Summary\n",
        "\n",
        "<img src=\"https://user-images.githubusercontent.com/33978990/89929080-5c157700-dc26-11ea-9c53-88909120d6b5.png\" width=\"400\">\n",
        "<img src=\"https://user-images.githubusercontent.com/33978990/89929367-c9c1a300-dc26-11ea-81c1-39105f634823.png\" width=\"400\">\n",
        "<img src=\"https://user-images.githubusercontent.com/33978990/89934112-bbc35080-dc2d-11ea-8b7b-e32ca7c8c89b.png\" width=\"400\">\n",
        "\n"
      ]
    },
    {
      "cell_type": "markdown",
      "metadata": {
        "id": "7LooacBqMULx",
        "colab_type": "text"
      },
      "source": [
        "## Iperf Benchmarks on a 10Gb/s internal network through calico CNI\n",
        "---\n",
        "\n",
        "<img src=\"https://user-images.githubusercontent.com/33978990/89918548-ca9f0880-dc17-11ea-9272-c858b7318500.png\" width=\"500\">"
      ]
    },
    {
      "cell_type": "markdown",
      "metadata": {
        "id": "wncJmd90M7yx",
        "colab_type": "text"
      },
      "source": [
        "## FIO benchmarks with IODEPTH 16 and 32\n",
        "\n",
        "The blue line is the throughput. \n",
        "In short, reads were between 120 and 130 MB/s and write between 110 to 120 Mb/s.\n",
        "\n",
        "### `read`\n",
        "\n",
        "<img src=\"https://user-images.githubusercontent.com/33978990/89943993-bfaa9f00-dc3c-11ea-8544-68ac00d01890.png\" width=\"500\">\n",
        "<img src=\"https://user-images.githubusercontent.com/33978990/89943994-c0433580-dc3c-11ea-86ed-f339b5718a6b.png\" width=\"500\">\n",
        "\n",
        "### `write` \n",
        "\n",
        "<img src=\"https://camo.githubusercontent.com/763d262160b8a5fd1a5b7f21b4a966ec78083022/687474703a2f2f636c73746f726530322e636c656d736f6e2e636c6f75646c61622e75733a383030302f66696f2d77726974652d31362d7364622d323032302d30382d30385f3034323732312e706e67\" width=\"500\">\n",
        "\n",
        "<img src=\"https://camo.githubusercontent.com/ee5d993ad3c5e48763851fdd18a8eea279166ebe/687474703a2f2f636c73746f726530322e636c656d736f6e2e636c6f75646c61622e75733a383030302f66696f2d77726974652d33322d7364622d323032302d30382d30385f3034323732322e706e67\" width=\"500\">\n",
        "\n",
        "### `randread` \n",
        "\n",
        "<img src=\"https://camo.githubusercontent.com/348a2e25e083a878a0534d5ea3270624840ef73e/687474703a2f2f636c73746f726530322e636c656d736f6e2e636c6f75646c61622e75733a383030302f66696f2d72616e64726561642d31362d7364622d323032302d30382d30385f3034303633312e706e67\" width=\"500\">\n",
        "\n",
        "<img src=\"https://camo.githubusercontent.com/39ffc2bdbe8935ada6b0be98714be0a64e61f754/687474703a2f2f636c73746f726530322e636c656d736f6e2e636c6f75646c61622e75733a383030302f66696f2d72616e64726561642d33322d7364622d323032302d30382d30385f3034303633332e706e67\" width=\"500\">\n",
        "\n",
        "### `randwrite` \n",
        "\n",
        "\n",
        "<img src=\"https://camo.githubusercontent.com/0676368f2dbca1d704bdaa8621dced733725847d/687474703a2f2f636c73746f726530322e636c656d736f6e2e636c6f75646c61622e75733a383030302f6b75626573746f6e655f66696f2f726573756c74732f66696f2d72616e6477726974652d31362d7364622d323032302d30382d30385f3034343232362e706e67\" width=\"500\">\n",
        "\n",
        "<img src=\"https://camo.githubusercontent.com/c03c510294a4aab50cccf89ce15e151018672403/687474703a2f2f636c73746f726530322e636c656d736f6e2e636c6f75646c61622e75733a383030302f6b75626573746f6e655f66696f2f726573756c74732f66696f2d72616e6477726974652d33322d7364622d323032302d30382d30385f3034343232382e706e67\" width=\"500\">\n"
      ]
    },
    {
      "cell_type": "markdown",
      "metadata": {
        "id": "WBeY0_4ySAcK",
        "colab_type": "text"
      },
      "source": [
        "## Run query benchmarks\n",
        "---\n",
        "\n",
        "### Configuration\n",
        "\n",
        "**threads**: 28\n",
        "\n",
        "**iodepth**: 448\n",
        "\n",
        "**dataset**: flatbuffer 100MB 750K rows\n",
        "\n",
        "**no. of rows**: 750M (1000 objects, 210 GB, no replication)\n",
        "\n",
        "### Client side processing\n",
        "\n",
        "<img src=\"https://user-images.githubusercontent.com/33978990/89922065-29ff1780-dc1c-11ea-96f8-5ab76e17cc44.png\" width=\"400\">\n",
        "\n",
        "### Storage side processing\n",
        "\n",
        "<img src=\"https://user-images.githubusercontent.com/33978990/89922068-2bc8db00-dc1c-11ea-8000-6524fb3a6ee1.png\" width=\"400\">\n",
        "\n",
        "\n",
        "A througput between ~600 MB/s to ~650 MB/s was observed in the stable region of the queries. **So, the overhead due to skyhooks processing might have reduced the througput from ~700 MB/s to ~625 MB/s.**\n"
      ]
    }
  ]
}